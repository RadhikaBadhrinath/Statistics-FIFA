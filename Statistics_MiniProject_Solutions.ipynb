{
 "cells": [
  {
   "cell_type": "markdown",
   "metadata": {
    "id": "QEdqaV17v40W"
   },
   "source": [
    "# STATISTICS PROJECT"
   ]
  },
  {
   "cell_type": "code",
   "execution_count": 1,
   "metadata": {
    "id": "yvkhatFdv40c"
   },
   "outputs": [
    {
     "ename": "ModuleNotFoundError",
     "evalue": "No module named 'scipy'",
     "output_type": "error",
     "traceback": [
      "\u001b[1;31m---------------------------------------------------------------------------\u001b[0m",
      "\u001b[1;31mModuleNotFoundError\u001b[0m                       Traceback (most recent call last)",
      "Cell \u001b[1;32mIn[1], line 3\u001b[0m\n\u001b[0;32m      1\u001b[0m \u001b[38;5;28;01mimport\u001b[39;00m \u001b[38;5;21;01mpandas\u001b[39;00m \u001b[38;5;28;01mas\u001b[39;00m \u001b[38;5;21;01mpd\u001b[39;00m\n\u001b[0;32m      2\u001b[0m \u001b[38;5;28;01mimport\u001b[39;00m \u001b[38;5;21;01mnumpy\u001b[39;00m \u001b[38;5;28;01mas\u001b[39;00m \u001b[38;5;21;01mnp\u001b[39;00m\n\u001b[1;32m----> 3\u001b[0m \u001b[38;5;28;01mimport\u001b[39;00m \u001b[38;5;21;01mscipy\u001b[39;00m\u001b[38;5;21;01m.\u001b[39;00m\u001b[38;5;21;01mstats\u001b[39;00m \u001b[38;5;28;01mas\u001b[39;00m \u001b[38;5;21;01mstats\u001b[39;00m\n\u001b[0;32m      4\u001b[0m \u001b[38;5;28;01mimport\u001b[39;00m \u001b[38;5;21;01mseaborn\u001b[39;00m \u001b[38;5;28;01mas\u001b[39;00m \u001b[38;5;21;01msns\u001b[39;00m\n\u001b[0;32m      5\u001b[0m \u001b[38;5;28;01mimport\u001b[39;00m \u001b[38;5;21;01mrandom\u001b[39;00m\n",
      "\u001b[1;31mModuleNotFoundError\u001b[0m: No module named 'scipy'"
     ]
    }
   ],
   "source": [
    "import pandas as pd\n",
    "import numpy as np\n",
    "import scipy.stats as stats\n",
    "import seaborn as sns\n",
    "import random\n",
    "import matplotlib.pyplot as plt"
   ]
  },
  {
   "cell_type": "code",
   "execution_count": null,
   "metadata": {
    "id": "68KhKQ2Rv40d",
    "outputId": "3b2c3c83-63a7-44ea-f337-9d1600ac38f4",
    "scrolled": true
   },
   "outputs": [
    {
     "data": {
      "text/html": [
       "<div>\n",
       "<style scoped>\n",
       "    .dataframe tbody tr th:only-of-type {\n",
       "        vertical-align: middle;\n",
       "    }\n",
       "\n",
       "    .dataframe tbody tr th {\n",
       "        vertical-align: top;\n",
       "    }\n",
       "\n",
       "    .dataframe thead th {\n",
       "        text-align: right;\n",
       "    }\n",
       "</style>\n",
       "<table border=\"1\" class=\"dataframe\">\n",
       "  <thead>\n",
       "    <tr style=\"text-align: right;\">\n",
       "      <th></th>\n",
       "      <th>Name</th>\n",
       "      <th>Age</th>\n",
       "      <th>Nationality</th>\n",
       "      <th>Overall_rating</th>\n",
       "      <th>Potential</th>\n",
       "      <th>Club</th>\n",
       "      <th>Preferred Foot</th>\n",
       "      <th>International Reputation</th>\n",
       "      <th>Weak Foot</th>\n",
       "      <th>Skill Moves</th>\n",
       "      <th>Work Rate</th>\n",
       "      <th>Position</th>\n",
       "      <th>Jersey Number</th>\n",
       "      <th>Height</th>\n",
       "      <th>Weight</th>\n",
       "    </tr>\n",
       "  </thead>\n",
       "  <tbody>\n",
       "    <tr>\n",
       "      <th>0</th>\n",
       "      <td>L. Messi</td>\n",
       "      <td>31</td>\n",
       "      <td>Argentina</td>\n",
       "      <td>94</td>\n",
       "      <td>94</td>\n",
       "      <td>FC Barcelona</td>\n",
       "      <td>Left</td>\n",
       "      <td>5</td>\n",
       "      <td>4</td>\n",
       "      <td>4</td>\n",
       "      <td>Medium/ Medium</td>\n",
       "      <td>RF</td>\n",
       "      <td>10</td>\n",
       "      <td>5.583333</td>\n",
       "      <td>159</td>\n",
       "    </tr>\n",
       "    <tr>\n",
       "      <th>1</th>\n",
       "      <td>Cristiano Ronaldo</td>\n",
       "      <td>33</td>\n",
       "      <td>Portugal</td>\n",
       "      <td>94</td>\n",
       "      <td>94</td>\n",
       "      <td>Juventus</td>\n",
       "      <td>Right</td>\n",
       "      <td>5</td>\n",
       "      <td>4</td>\n",
       "      <td>5</td>\n",
       "      <td>High/ Low</td>\n",
       "      <td>ST</td>\n",
       "      <td>7</td>\n",
       "      <td>6.166667</td>\n",
       "      <td>183</td>\n",
       "    </tr>\n",
       "    <tr>\n",
       "      <th>2</th>\n",
       "      <td>Neymar Jr</td>\n",
       "      <td>26</td>\n",
       "      <td>Brazil</td>\n",
       "      <td>92</td>\n",
       "      <td>93</td>\n",
       "      <td>Paris Saint-Germain</td>\n",
       "      <td>Right</td>\n",
       "      <td>5</td>\n",
       "      <td>5</td>\n",
       "      <td>5</td>\n",
       "      <td>High/ Medium</td>\n",
       "      <td>LW</td>\n",
       "      <td>10</td>\n",
       "      <td>5.750000</td>\n",
       "      <td>150</td>\n",
       "    </tr>\n",
       "    <tr>\n",
       "      <th>3</th>\n",
       "      <td>De Gea</td>\n",
       "      <td>27</td>\n",
       "      <td>Spain</td>\n",
       "      <td>91</td>\n",
       "      <td>93</td>\n",
       "      <td>Manchester United</td>\n",
       "      <td>Right</td>\n",
       "      <td>4</td>\n",
       "      <td>3</td>\n",
       "      <td>1</td>\n",
       "      <td>Medium/ Medium</td>\n",
       "      <td>GK</td>\n",
       "      <td>1</td>\n",
       "      <td>6.333333</td>\n",
       "      <td>168</td>\n",
       "    </tr>\n",
       "    <tr>\n",
       "      <th>4</th>\n",
       "      <td>K. De Bruyne</td>\n",
       "      <td>27</td>\n",
       "      <td>Belgium</td>\n",
       "      <td>91</td>\n",
       "      <td>92</td>\n",
       "      <td>Manchester City</td>\n",
       "      <td>Right</td>\n",
       "      <td>4</td>\n",
       "      <td>5</td>\n",
       "      <td>4</td>\n",
       "      <td>High/ High</td>\n",
       "      <td>RCM</td>\n",
       "      <td>7</td>\n",
       "      <td>5.083333</td>\n",
       "      <td>154</td>\n",
       "    </tr>\n",
       "  </tbody>\n",
       "</table>\n",
       "</div>"
      ],
      "text/plain": [
       "                Name  Age Nationality  Overall_rating  Potential  \\\n",
       "0           L. Messi   31   Argentina              94         94   \n",
       "1  Cristiano Ronaldo   33    Portugal              94         94   \n",
       "2          Neymar Jr   26      Brazil              92         93   \n",
       "3             De Gea   27       Spain              91         93   \n",
       "4       K. De Bruyne   27     Belgium              91         92   \n",
       "\n",
       "                  Club Preferred Foot  International Reputation  Weak Foot  \\\n",
       "0         FC Barcelona           Left                         5          4   \n",
       "1             Juventus          Right                         5          4   \n",
       "2  Paris Saint-Germain          Right                         5          5   \n",
       "3    Manchester United          Right                         4          3   \n",
       "4      Manchester City          Right                         4          5   \n",
       "\n",
       "   Skill Moves       Work Rate Position  Jersey Number    Height  Weight  \n",
       "0            4  Medium/ Medium       RF             10  5.583333     159  \n",
       "1            5       High/ Low       ST              7  6.166667     183  \n",
       "2            5    High/ Medium       LW             10  5.750000     150  \n",
       "3            1  Medium/ Medium       GK              1  6.333333     168  \n",
       "4            4      High/ High      RCM              7  5.083333     154  "
      ]
     },
     "execution_count": 2,
     "metadata": {
      "tags": []
     },
     "output_type": "execute_result"
    }
   ],
   "source": [
    "fifa=pd.read_csv('fifa_stats.csv')\n",
    "fifa.head()"
   ]
  },
  {
   "cell_type": "markdown",
   "metadata": {
    "id": "3HRSLbYev40e"
   },
   "source": [
    "### Description About the Dataset"
   ]
  },
  {
   "cell_type": "code",
   "execution_count": null,
   "metadata": {
    "id": "9PfTDVPjv40f",
    "outputId": "6fcdadeb-5e65-4b07-c678-918d6a3fb48e"
   },
   "outputs": [
    {
     "name": "stdout",
     "output_type": "stream",
     "text": [
      "<class 'pandas.core.frame.DataFrame'>\n",
      "RangeIndex: 2000 entries, 0 to 1999\n",
      "Data columns (total 15 columns):\n",
      "Name                        2000 non-null object\n",
      "Age                         2000 non-null int64\n",
      "Nationality                 2000 non-null object\n",
      "Overall_rating              2000 non-null int64\n",
      "Potential                   2000 non-null int64\n",
      "Club                        1981 non-null object\n",
      "Preferred Foot              2000 non-null object\n",
      "International Reputation    2000 non-null int64\n",
      "Weak Foot                   2000 non-null int64\n",
      "Skill Moves                 2000 non-null int64\n",
      "Work Rate                   2000 non-null object\n",
      "Position                    2000 non-null object\n",
      "Jersey Number               2000 non-null int64\n",
      "Height                      2000 non-null float64\n",
      "Weight                      2000 non-null int64\n",
      "dtypes: float64(1), int64(8), object(6)\n",
      "memory usage: 234.5+ KB\n"
     ]
    }
   ],
   "source": [
    "fifa.info()"
   ]
  },
  {
   "cell_type": "code",
   "execution_count": null,
   "metadata": {
    "id": "-V9PfV6Qv40f",
    "outputId": "c46d0c31-d409-4aa7-88ad-a2cc91213682",
    "scrolled": true
   },
   "outputs": [
    {
     "data": {
      "text/html": [
       "<div>\n",
       "<style scoped>\n",
       "    .dataframe tbody tr th:only-of-type {\n",
       "        vertical-align: middle;\n",
       "    }\n",
       "\n",
       "    .dataframe tbody tr th {\n",
       "        vertical-align: top;\n",
       "    }\n",
       "\n",
       "    .dataframe thead th {\n",
       "        text-align: right;\n",
       "    }\n",
       "</style>\n",
       "<table border=\"1\" class=\"dataframe\">\n",
       "  <thead>\n",
       "    <tr style=\"text-align: right;\">\n",
       "      <th></th>\n",
       "      <th>Name</th>\n",
       "      <th>Age</th>\n",
       "      <th>Nationality</th>\n",
       "      <th>Overall_rating</th>\n",
       "      <th>Potential</th>\n",
       "      <th>Club</th>\n",
       "      <th>Preferred Foot</th>\n",
       "      <th>International Reputation</th>\n",
       "      <th>Weak Foot</th>\n",
       "      <th>Skill Moves</th>\n",
       "      <th>Work Rate</th>\n",
       "      <th>Position</th>\n",
       "      <th>Jersey Number</th>\n",
       "      <th>Height</th>\n",
       "      <th>Weight</th>\n",
       "    </tr>\n",
       "  </thead>\n",
       "  <tbody>\n",
       "    <tr>\n",
       "      <th>count</th>\n",
       "      <td>2000</td>\n",
       "      <td>2000.000000</td>\n",
       "      <td>2000</td>\n",
       "      <td>2000.000000</td>\n",
       "      <td>2000.000000</td>\n",
       "      <td>1981</td>\n",
       "      <td>2000</td>\n",
       "      <td>2000.000000</td>\n",
       "      <td>2000.000000</td>\n",
       "      <td>2000.000000</td>\n",
       "      <td>2000</td>\n",
       "      <td>2000</td>\n",
       "      <td>2000.000000</td>\n",
       "      <td>2000.000000</td>\n",
       "      <td>2000.000000</td>\n",
       "    </tr>\n",
       "    <tr>\n",
       "      <th>unique</th>\n",
       "      <td>1970</td>\n",
       "      <td>NaN</td>\n",
       "      <td>95</td>\n",
       "      <td>NaN</td>\n",
       "      <td>NaN</td>\n",
       "      <td>285</td>\n",
       "      <td>2</td>\n",
       "      <td>NaN</td>\n",
       "      <td>NaN</td>\n",
       "      <td>NaN</td>\n",
       "      <td>8</td>\n",
       "      <td>27</td>\n",
       "      <td>NaN</td>\n",
       "      <td>NaN</td>\n",
       "      <td>NaN</td>\n",
       "    </tr>\n",
       "    <tr>\n",
       "      <th>top</th>\n",
       "      <td>Danilo</td>\n",
       "      <td>NaN</td>\n",
       "      <td>Spain</td>\n",
       "      <td>NaN</td>\n",
       "      <td>NaN</td>\n",
       "      <td>Chelsea</td>\n",
       "      <td>Right</td>\n",
       "      <td>NaN</td>\n",
       "      <td>NaN</td>\n",
       "      <td>NaN</td>\n",
       "      <td>Medium/ Medium</td>\n",
       "      <td>GK</td>\n",
       "      <td>NaN</td>\n",
       "      <td>NaN</td>\n",
       "      <td>NaN</td>\n",
       "    </tr>\n",
       "    <tr>\n",
       "      <th>freq</th>\n",
       "      <td>3</td>\n",
       "      <td>NaN</td>\n",
       "      <td>251</td>\n",
       "      <td>NaN</td>\n",
       "      <td>NaN</td>\n",
       "      <td>24</td>\n",
       "      <td>1534</td>\n",
       "      <td>NaN</td>\n",
       "      <td>NaN</td>\n",
       "      <td>NaN</td>\n",
       "      <td>733</td>\n",
       "      <td>194</td>\n",
       "      <td>NaN</td>\n",
       "      <td>NaN</td>\n",
       "      <td>NaN</td>\n",
       "    </tr>\n",
       "    <tr>\n",
       "      <th>mean</th>\n",
       "      <td>NaN</td>\n",
       "      <td>27.231500</td>\n",
       "      <td>NaN</td>\n",
       "      <td>78.197000</td>\n",
       "      <td>80.303500</td>\n",
       "      <td>NaN</td>\n",
       "      <td>NaN</td>\n",
       "      <td>1.774500</td>\n",
       "      <td>3.204000</td>\n",
       "      <td>2.919500</td>\n",
       "      <td>NaN</td>\n",
       "      <td>NaN</td>\n",
       "      <td>15.205500</td>\n",
       "      <td>5.781042</td>\n",
       "      <td>169.478000</td>\n",
       "    </tr>\n",
       "    <tr>\n",
       "      <th>std</th>\n",
       "      <td>NaN</td>\n",
       "      <td>3.859061</td>\n",
       "      <td>NaN</td>\n",
       "      <td>3.285969</td>\n",
       "      <td>4.114104</td>\n",
       "      <td>NaN</td>\n",
       "      <td>NaN</td>\n",
       "      <td>0.811775</td>\n",
       "      <td>0.728457</td>\n",
       "      <td>0.964098</td>\n",
       "      <td>NaN</td>\n",
       "      <td>NaN</td>\n",
       "      <td>13.210508</td>\n",
       "      <td>0.443337</td>\n",
       "      <td>16.050306</td>\n",
       "    </tr>\n",
       "    <tr>\n",
       "      <th>min</th>\n",
       "      <td>NaN</td>\n",
       "      <td>17.000000</td>\n",
       "      <td>NaN</td>\n",
       "      <td>75.000000</td>\n",
       "      <td>75.000000</td>\n",
       "      <td>NaN</td>\n",
       "      <td>NaN</td>\n",
       "      <td>1.000000</td>\n",
       "      <td>1.000000</td>\n",
       "      <td>1.000000</td>\n",
       "      <td>NaN</td>\n",
       "      <td>NaN</td>\n",
       "      <td>1.000000</td>\n",
       "      <td>5.083333</td>\n",
       "      <td>123.000000</td>\n",
       "    </tr>\n",
       "    <tr>\n",
       "      <th>25%</th>\n",
       "      <td>NaN</td>\n",
       "      <td>24.000000</td>\n",
       "      <td>NaN</td>\n",
       "      <td>76.000000</td>\n",
       "      <td>77.000000</td>\n",
       "      <td>NaN</td>\n",
       "      <td>NaN</td>\n",
       "      <td>1.000000</td>\n",
       "      <td>3.000000</td>\n",
       "      <td>2.000000</td>\n",
       "      <td>NaN</td>\n",
       "      <td>NaN</td>\n",
       "      <td>7.000000</td>\n",
       "      <td>5.500000</td>\n",
       "      <td>159.000000</td>\n",
       "    </tr>\n",
       "    <tr>\n",
       "      <th>50%</th>\n",
       "      <td>NaN</td>\n",
       "      <td>27.000000</td>\n",
       "      <td>NaN</td>\n",
       "      <td>77.000000</td>\n",
       "      <td>80.000000</td>\n",
       "      <td>NaN</td>\n",
       "      <td>NaN</td>\n",
       "      <td>2.000000</td>\n",
       "      <td>3.000000</td>\n",
       "      <td>3.000000</td>\n",
       "      <td>NaN</td>\n",
       "      <td>NaN</td>\n",
       "      <td>12.000000</td>\n",
       "      <td>6.000000</td>\n",
       "      <td>170.000000</td>\n",
       "    </tr>\n",
       "    <tr>\n",
       "      <th>75%</th>\n",
       "      <td>NaN</td>\n",
       "      <td>30.000000</td>\n",
       "      <td>NaN</td>\n",
       "      <td>80.000000</td>\n",
       "      <td>83.000000</td>\n",
       "      <td>NaN</td>\n",
       "      <td>NaN</td>\n",
       "      <td>2.000000</td>\n",
       "      <td>4.000000</td>\n",
       "      <td>4.000000</td>\n",
       "      <td>NaN</td>\n",
       "      <td>NaN</td>\n",
       "      <td>20.000000</td>\n",
       "      <td>6.166667</td>\n",
       "      <td>181.000000</td>\n",
       "    </tr>\n",
       "    <tr>\n",
       "      <th>max</th>\n",
       "      <td>NaN</td>\n",
       "      <td>41.000000</td>\n",
       "      <td>NaN</td>\n",
       "      <td>94.000000</td>\n",
       "      <td>95.000000</td>\n",
       "      <td>NaN</td>\n",
       "      <td>NaN</td>\n",
       "      <td>5.000000</td>\n",
       "      <td>5.000000</td>\n",
       "      <td>5.000000</td>\n",
       "      <td>NaN</td>\n",
       "      <td>NaN</td>\n",
       "      <td>99.000000</td>\n",
       "      <td>6.583333</td>\n",
       "      <td>227.000000</td>\n",
       "    </tr>\n",
       "  </tbody>\n",
       "</table>\n",
       "</div>"
      ],
      "text/plain": [
       "          Name          Age Nationality  Overall_rating    Potential     Club  \\\n",
       "count     2000  2000.000000        2000     2000.000000  2000.000000     1981   \n",
       "unique    1970          NaN          95             NaN          NaN      285   \n",
       "top     Danilo          NaN       Spain             NaN          NaN  Chelsea   \n",
       "freq         3          NaN         251             NaN          NaN       24   \n",
       "mean       NaN    27.231500         NaN       78.197000    80.303500      NaN   \n",
       "std        NaN     3.859061         NaN        3.285969     4.114104      NaN   \n",
       "min        NaN    17.000000         NaN       75.000000    75.000000      NaN   \n",
       "25%        NaN    24.000000         NaN       76.000000    77.000000      NaN   \n",
       "50%        NaN    27.000000         NaN       77.000000    80.000000      NaN   \n",
       "75%        NaN    30.000000         NaN       80.000000    83.000000      NaN   \n",
       "max        NaN    41.000000         NaN       94.000000    95.000000      NaN   \n",
       "\n",
       "       Preferred Foot  International Reputation    Weak Foot  Skill Moves  \\\n",
       "count            2000               2000.000000  2000.000000  2000.000000   \n",
       "unique              2                       NaN          NaN          NaN   \n",
       "top             Right                       NaN          NaN          NaN   \n",
       "freq             1534                       NaN          NaN          NaN   \n",
       "mean              NaN                  1.774500     3.204000     2.919500   \n",
       "std               NaN                  0.811775     0.728457     0.964098   \n",
       "min               NaN                  1.000000     1.000000     1.000000   \n",
       "25%               NaN                  1.000000     3.000000     2.000000   \n",
       "50%               NaN                  2.000000     3.000000     3.000000   \n",
       "75%               NaN                  2.000000     4.000000     4.000000   \n",
       "max               NaN                  5.000000     5.000000     5.000000   \n",
       "\n",
       "             Work Rate Position  Jersey Number       Height       Weight  \n",
       "count             2000     2000    2000.000000  2000.000000  2000.000000  \n",
       "unique               8       27            NaN          NaN          NaN  \n",
       "top     Medium/ Medium       GK            NaN          NaN          NaN  \n",
       "freq               733      194            NaN          NaN          NaN  \n",
       "mean               NaN      NaN      15.205500     5.781042   169.478000  \n",
       "std                NaN      NaN      13.210508     0.443337    16.050306  \n",
       "min                NaN      NaN       1.000000     5.083333   123.000000  \n",
       "25%                NaN      NaN       7.000000     5.500000   159.000000  \n",
       "50%                NaN      NaN      12.000000     6.000000   170.000000  \n",
       "75%                NaN      NaN      20.000000     6.166667   181.000000  \n",
       "max                NaN      NaN      99.000000     6.583333   227.000000  "
      ]
     },
     "execution_count": 4,
     "metadata": {
      "tags": []
     },
     "output_type": "execute_result"
    }
   ],
   "source": [
    "fifa.describe(include='all')"
   ]
  },
  {
   "cell_type": "markdown",
   "metadata": {
    "id": "XzeiSjehv40f"
   },
   "source": [
    "### Handling Null Values"
   ]
  },
  {
   "cell_type": "code",
   "execution_count": null,
   "metadata": {
    "id": "VO8Q2wA7v40f",
    "outputId": "9d2e2fb2-ad9e-4f02-ff5a-d5bbe0e188d3"
   },
   "outputs": [
    {
     "data": {
      "text/plain": [
       "Name                         0\n",
       "Age                          0\n",
       "Nationality                  0\n",
       "Overall_rating               0\n",
       "Potential                    0\n",
       "Club                        19\n",
       "Preferred Foot               0\n",
       "International Reputation     0\n",
       "Weak Foot                    0\n",
       "Skill Moves                  0\n",
       "Work Rate                    0\n",
       "Position                     0\n",
       "Jersey Number                0\n",
       "Height                       0\n",
       "Weight                       0\n",
       "dtype: int64"
      ]
     },
     "execution_count": 5,
     "metadata": {
      "tags": []
     },
     "output_type": "execute_result"
    }
   ],
   "source": [
    "# null values\n",
    "fifa.isna().sum() "
   ]
  },
  {
   "cell_type": "code",
   "execution_count": null,
   "metadata": {
    "id": "FzX-aa1Ev40g"
   },
   "outputs": [],
   "source": [
    "# 19 Records of Club are null values."
   ]
  },
  {
   "cell_type": "code",
   "execution_count": null,
   "metadata": {
    "id": "ku9eVtKiv40g",
    "outputId": "67314c22-226d-4ef1-ac7a-c9681cb52be5"
   },
   "outputs": [
    {
     "data": {
      "text/plain": [
       "Chelsea                  24\n",
       "Manchester United        23\n",
       "Liverpool                23\n",
       "Napoli                   23\n",
       "Borussia Dortmund        23\n",
       "                         ..\n",
       "Granada CF                1\n",
       "Universidad CatÃ³lica     1\n",
       "Urawa Red Diamonds        1\n",
       "Rosario Central           1\n",
       "Kawasaki Frontale         1\n",
       "Name: Club, Length: 285, dtype: int64"
      ]
     },
     "execution_count": 7,
     "metadata": {
      "tags": []
     },
     "output_type": "execute_result"
    }
   ],
   "source": [
    "# Distribution of Club\n",
    "fifa['Club'].value_counts() "
   ]
  },
  {
   "cell_type": "code",
   "execution_count": null,
   "metadata": {
    "id": "hyalhZA-v40g"
   },
   "outputs": [],
   "source": [
    " # Replacing with mode values\n",
    "fifa['Club'].fillna('Chelsea',inplace=True)"
   ]
  },
  {
   "cell_type": "code",
   "execution_count": null,
   "metadata": {
    "id": "3R5MjQLav40g",
    "outputId": "fd2a305e-d952-42c2-d204-ca92f14ecb6e"
   },
   "outputs": [
    {
     "data": {
      "text/plain": [
       "Name                        0\n",
       "Age                         0\n",
       "Nationality                 0\n",
       "Overall_rating              0\n",
       "Potential                   0\n",
       "Club                        0\n",
       "Preferred Foot              0\n",
       "International Reputation    0\n",
       "Weak Foot                   0\n",
       "Skill Moves                 0\n",
       "Work Rate                   0\n",
       "Position                    0\n",
       "Jersey Number               0\n",
       "Height                      0\n",
       "Weight                      0\n",
       "dtype: int64"
      ]
     },
     "execution_count": 9,
     "metadata": {
      "tags": []
     },
     "output_type": "execute_result"
    }
   ],
   "source": [
    "# checking null values after imputing/\n",
    "fifa.isna().sum()"
   ]
  },
  {
   "cell_type": "markdown",
   "metadata": {
    "id": "m376Jwlnv40h"
   },
   "source": [
    "**Assuming age as population, perform central limit theorem with sample size of 200. Finding the stand error and the mean of sampling distribution. Compare the results with population mean and standard deviation.**\n",
    "\n",
    "\n",
    "\n"
   ]
  },
  {
   "cell_type": "markdown",
   "metadata": {
    "id": "2gU_Z97Bv40h"
   },
   "source": [
    "### Analysis of Population Data:"
   ]
  },
  {
   "cell_type": "code",
   "execution_count": null,
   "metadata": {
    "id": "h_9GZaB-v40h",
    "outputId": "c35feeb4-6f37-44ad-a41c-d6bed18fedb0",
    "scrolled": true
   },
   "outputs": [
    {
     "data": {
      "text/plain": [
       "<AxesSubplot:xlabel='Age'>"
      ]
     },
     "execution_count": 10,
     "metadata": {
      "tags": []
     },
     "output_type": "execute_result"
    },
    {
     "data": {
      "image/png": "[encoded data removed]",
      "text/plain": [
       "<Figure size 432x288 with 1 Axes>"
      ]
     },
     "metadata": {
      "needs_background": "light",
      "tags": []
     },
     "output_type": "display_data"
    }
   ],
   "source": [
    "sns.distplot(fifa['Age'])"
   ]
  },
  {
   "cell_type": "code",
   "execution_count": null,
   "metadata": {
    "id": "IWI1UHz_v40h",
    "outputId": "64fe556e-7519-49b9-c3a8-066e567cd34a"
   },
   "outputs": [
    {
     "name": "stdout",
     "output_type": "stream",
     "text": [
      "Test Statistic: 0.9883174300193787\n",
      "p_value: 1.1409696104580647e-11\n"
     ]
    }
   ],
   "source": [
    "# Test of Normality\n",
    "\n",
    "# Ho: Data is not normal\n",
    "# Ha : Data is normal\n",
    "\n",
    "print('Test Statistic:',stats.shapiro(fifa['Age'])[0])\n",
    "print('p_value:',stats.shapiro(fifa['Age'])[1])"
   ]
  },
  {
   "cell_type": "code",
   "execution_count": null,
   "metadata": {
    "id": "n6MOh-dTv40i"
   },
   "outputs": [],
   "source": [
    "# Since p_value < 0.05(5% Significance level). Null Hypothesis is rejected i.e Alternate Hypothesis \n",
    "# is selected. \n",
    "\n",
    "# Inference: Data is not normal."
   ]
  },
  {
   "cell_type": "markdown",
   "metadata": {
    "id": "ViM4c6tNv40i"
   },
   "source": [
    "### Performing Central Limit Theroem:"
   ]
  },
  {
   "cell_type": "markdown",
   "metadata": {
    "id": "JBno5qsHv40i"
   },
   "source": [
    "**Statement:** The study of probability theory, the central limit theorem (CLT) states that the distribution of sample approximates a normal distribution (also known as a “bell curve”) as the sample size becomes larger, assuming that all samples are identical in size, and regardless of the population distribution shape."
   ]
  },
  {
   "cell_type": "code",
   "execution_count": null,
   "metadata": {
    "id": "yv3wQa9jv40i"
   },
   "outputs": [],
   "source": [
    "pop = fifa['Age']"
   ]
  },
  {
   "cell_type": "code",
   "execution_count": null,
   "metadata": {
    "id": "xXPlMQDbv40i"
   },
   "outputs": [],
   "source": [
    "sample_mean=[]\n",
    "sample_size=200\n",
    "for i in range(50):\n",
    "    sample=[]\n",
    "    for i in range(sample_size):\n",
    "        sample.append(random.choice(pop))\n",
    "    sample_mean.append(np.mean(sample))"
   ]
  },
  {
   "cell_type": "code",
   "execution_count": null,
   "metadata": {
    "id": "fz2uB2Jxv40j",
    "outputId": "69cffa9f-bb9b-4b0f-8161-a5ac77f258b2"
   },
   "outputs": [
    {
     "data": {
      "text/plain": [
       "<AxesSubplot:>"
      ]
     },
     "execution_count": 15,
     "metadata": {
      "tags": []
     },
     "output_type": "execute_result"
    },
    {
     "data": {
      "image/png": "[encoded data removed]",
      "text/plain": [
       "<Figure size 432x288 with 1 Axes>"
      ]
     },
     "metadata": {
      "needs_background": "light",
      "tags": []
     },
     "output_type": "display_data"
    }
   ],
   "source": [
    "sns.distplot(sample_mean)"
   ]
  },
  {
   "cell_type": "code",
   "execution_count": null,
   "metadata": {
    "id": "rYRrZu7Mv40j",
    "outputId": "abf9319e-4ee3-4abf-8806-a14957431c79"
   },
   "outputs": [
    {
     "name": "stdout",
     "output_type": "stream",
     "text": [
      "Test Statistic: 0.9669615626335144\n",
      "p_value: 0.17365306615829468\n"
     ]
    }
   ],
   "source": [
    "# Test of Normality \n",
    "\n",
    "# Ho: Data is not normal\n",
    "# Ha : Data is normal\n",
    "\n",
    "print('Test Statistic:',stats.shapiro(sample_mean)[0])\n",
    "print('p_value:',stats.shapiro(sample_mean)[1])"
   ]
  },
  {
   "cell_type": "code",
   "execution_count": null,
   "metadata": {
    "id": "P5JbOtg5v40j"
   },
   "outputs": [],
   "source": [
    "# Since p_value > 0.05(5% Significance level). Null Hypothesis is selected i.e Alternate Hypothesis \n",
    "# is not selected. \n",
    "\n",
    "# Inference: Data is normal."
   ]
  },
  {
   "cell_type": "markdown",
   "metadata": {
    "id": "3vfXPISEv40j"
   },
   "source": [
    "### Standard Error "
   ]
  },
  {
   "cell_type": "code",
   "execution_count": null,
   "metadata": {
    "id": "tXPyBvhEv40j",
    "outputId": "82052e44-25ce-430d-8b97-77a50027f2d7"
   },
   "outputs": [
    {
     "name": "stdout",
     "output_type": "stream",
     "text": [
      "Stand error : 0.2679570114775875\n"
     ]
    }
   ],
   "source": [
    "print('Standard error(Standard Deviation of Sampling Distribution) :',np.std(sample_mean))"
   ]
  },
  {
   "cell_type": "markdown",
   "metadata": {
    "id": "WfpxwbQpv40k"
   },
   "source": [
    "### Interpreting the Sampling distribution and Population statistics"
   ]
  },
  {
   "cell_type": "markdown",
   "metadata": {
    "id": "5uYMkj-uv40k"
   },
   "source": [
    "As per CLT, \n",
    "\n",
    "**Standard error(Standard deviation of Sampling distrbution) ≈ Population Standard Deviation/sqrt(sample size)**\n",
    "\n",
    "**Sampling Distribution mean ≈ Population Mean**\n",
    "\n",
    "\n",
    "\n",
    "                                                             "
   ]
  },
  {
   "cell_type": "code",
   "execution_count": null,
   "metadata": {
    "id": "V70ekAY5v40k",
    "outputId": "20d79df7-fdbe-46a0-a424-fa34a5350f9b"
   },
   "outputs": [
    {
     "name": "stdout",
     "output_type": "stream",
     "text": [
      "Stand error of Sampling distribution: 0.2679570114775875\n",
      "Population standarad deviation: 3.858096389412789\n"
     ]
    }
   ],
   "source": [
    "\n",
    "print('Stand error of Sampling distribution:',np.std(sample_mean))\n",
    "print('Population standarad deviation:',np.std(pop))"
   ]
  },
  {
   "cell_type": "code",
   "execution_count": null,
   "metadata": {
    "id": "fbZT9_nXv40k",
    "outputId": "90eee8dd-49c4-4261-fe53-d9c92251c5a1"
   },
   "outputs": [
    {
     "name": "stdout",
     "output_type": "stream",
     "text": [
      "Stand error of Sampling distribution: 0.2679570114775875\n",
      "Population standarad deviation/sqrt(sample size): 0.27280861194251177\n"
     ]
    }
   ],
   "source": [
    "print('Stand error of Sampling distribution:',np.std(sample_mean))\n",
    "print('Population standarad deviation/sqrt(sample size):',np.std(pop)/np.sqrt(sample_size))"
   ]
  },
  {
   "cell_type": "code",
   "execution_count": null,
   "metadata": {
    "id": "EgIvOADDv40k",
    "outputId": "d62f9062-e544-4cfd-d6a4-b73bacdffccb"
   },
   "outputs": [
    {
     "name": "stdout",
     "output_type": "stream",
     "text": [
      "Mean of Sampling distribution: 27.215200000000003\n",
      "Mean of Population: 27.2315\n"
     ]
    }
   ],
   "source": [
    "print('Mean of Sampling distribution:',np.mean(sample_mean))\n",
    "print('Mean of Population:',np.mean(pop))"
   ]
  },
  {
   "cell_type": "code",
   "execution_count": null,
   "metadata": {
    "id": "vEAF9gp3v40l"
   },
   "outputs": [],
   "source": [
    "# Standard error is inversely proportional to sample size. Standard error tends to decrease when \n",
    "# there is a increase in the sample size.\n",
    "\n",
    "# Also, if n increases the sample tends to population. So the mean values of samples will be closer\n",
    "# to population mean which tends to a decrease in standard deviation of sampling distribution."
   ]
  },
  {
   "cell_type": "markdown",
   "metadata": {
    "id": "40ZoEFrGv40l"
   },
   "source": [
    "**b)\tChecking if there's any evidence that the players overall rating is greater than 80.**"
   ]
  },
  {
   "cell_type": "code",
   "execution_count": null,
   "metadata": {
    "id": "JWarm9t7v40l",
    "outputId": "cbda641f-8924-4423-d040-6ae62c77baf2"
   },
   "outputs": [
    {
     "name": "stdout",
     "output_type": "stream",
     "text": [
      "Test Statistic: 0.8525537848472595\n",
      "p_value: 1.0221183102662362e-39\n"
     ]
    }
   ],
   "source": [
    "# Test of Normality \n",
    "\n",
    "# Ho: Data is not normal\n",
    "# Ha : Data is normal\n",
    "print('Test Statistic:',stats.shapiro(fifa['Overall_rating'])[0])\n",
    "print('p_value:',stats.shapiro(fifa['Overall_rating'])[1])"
   ]
  },
  {
   "cell_type": "code",
   "execution_count": null,
   "metadata": {
    "id": "__s22-WHv40l"
   },
   "outputs": [],
   "source": [
    "# Since p_value < 0.05(5% Significance level). Null Hypothesis is rejected i.e Alternate Hypothesis \n",
    "# is selected. \n",
    "\n",
    "# Inference: Data is not normal."
   ]
  },
  {
   "cell_type": "code",
   "execution_count": null,
   "metadata": {
    "id": "EVzsxZ55v40l"
   },
   "outputs": [],
   "source": [
    "# Since data points does not statisfy normality. Wilcoxin one sample test is used to check whether\n",
    "# overall rating is greater than 80."
   ]
  },
  {
   "cell_type": "code",
   "execution_count": null,
   "metadata": {
    "id": "B8PZQy-Xv40l",
    "outputId": "b49dc578-954f-40be-afd6-61921c74c781"
   },
   "outputs": [
    {
     "name": "stdout",
     "output_type": "stream",
     "text": [
      "Test Statistic: 340568.5\n",
      "p_value: 1.0\n"
     ]
    }
   ],
   "source": [
    "# Wilcoxin one sample test\n",
    "\n",
    "# Ho: μ <= 80\n",
    "# Ha : μ >  80\n",
    "\n",
    "mu =80\n",
    "\n",
    "data = fifa['Overall_rating']-mu\n",
    "test = stats.wilcoxon(data,alternative='greater')\n",
    "print('Test Statistic:',test[0])\n",
    "print('p_value:',test[1])"
   ]
  },
  {
   "cell_type": "code",
   "execution_count": null,
   "metadata": {
    "id": "6HP9ySLZv40m"
   },
   "outputs": [],
   "source": [
    "# Since p_value > 0.05(5% Significance level). Null Hypothesis is not rejected i.e Alternate Hypothesis \n",
    "# is not selected. \n",
    "\n",
    "# Inference: Overall rating is less than 80."
   ]
  },
  {
   "cell_type": "markdown",
   "metadata": {
    "id": "RpmxNO6Cv40m"
   },
   "source": [
    "**Performing the statistical test to identify whether preferred foot has any impact on potential. Also, perform the graphical analysis.**\n",
    "\n",
    "\n"
   ]
  },
  {
   "cell_type": "code",
   "execution_count": null,
   "metadata": {
    "id": "yTI1VYm0v40m",
    "outputId": "815edcf4-0330-4128-9e63-b6bec18455cd",
    "scrolled": true
   },
   "outputs": [
    {
     "data": {
      "text/plain": [
       "Right    1534\n",
       "Left      466\n",
       "Name: Preferred Foot, dtype: int64"
      ]
     },
     "execution_count": 28,
     "metadata": {
      "tags": []
     },
     "output_type": "execute_result"
    }
   ],
   "source": [
    "fifa['Preferred Foot'].value_counts()"
   ]
  },
  {
   "cell_type": "code",
   "execution_count": null,
   "metadata": {
    "id": "GhFwBKASv40m"
   },
   "outputs": [],
   "source": [
    "fifa_left=fifa[fifa['Preferred Foot']=='Left']\n",
    "fifa_right=fifa[fifa['Preferred Foot']=='Right']"
   ]
  },
  {
   "cell_type": "code",
   "execution_count": null,
   "metadata": {
    "id": "Bf8KoOCyv40m",
    "outputId": "caae7253-0dab-4e37-a639-a26e45f77f43"
   },
   "outputs": [
    {
     "name": "stdout",
     "output_type": "stream",
     "text": [
      "Test Statistic: 0.9384800791740417\n",
      "p_value: 5.016414837142018e-28\n"
     ]
    }
   ],
   "source": [
    "# Test of Normality \n",
    "\n",
    "# Ho: Data is not normal\n",
    "# Ha : Data is normal\n",
    "\n",
    "data = fifa['Potential']\n",
    "test = stats.shapiro(data)\n",
    "print('Test Statistic:',test[0])\n",
    "print('p_value:',test[1])\n",
    "\n"
   ]
  },
  {
   "cell_type": "code",
   "execution_count": null,
   "metadata": {
    "id": "2pOCcZsQv40n",
    "outputId": "0fcb616f-6210-4609-fb1c-9673d7af2727"
   },
   "outputs": [
    {
     "name": "stdout",
     "output_type": "stream",
     "text": [
      "Test Statistic: 0.9422042369842529\n",
      "p_value: 1.7173475098594682e-12\n"
     ]
    }
   ],
   "source": [
    "\n",
    "data = fifa_left['Potential']\n",
    "test = stats.shapiro(data)\n",
    "print('Test Statistic:',test[0])\n",
    "print('p_value:',test[1])"
   ]
  },
  {
   "cell_type": "code",
   "execution_count": null,
   "metadata": {
    "id": "4YUJwccWv40n",
    "outputId": "94cc969c-1ffd-4699-bd54-aeb81558f6d9"
   },
   "outputs": [
    {
     "name": "stdout",
     "output_type": "stream",
     "text": [
      "Test Statistic: 0.9369121193885803\n",
      "p_value: 5.342442151473519e-25\n"
     ]
    }
   ],
   "source": [
    "data = fifa_right['Potential']\n",
    "test = stats.shapiro(data)\n",
    "print('Test Statistic:',test[0])\n",
    "print('p_value:',test[1])"
   ]
  },
  {
   "cell_type": "code",
   "execution_count": null,
   "metadata": {
    "id": "_kyE6_iFv40n"
   },
   "outputs": [],
   "source": [
    "# Since p_value < 0.05(5% Significance level). Null Hypothesis is rejected i.e Alternate Hypothesis \n",
    "# is selected. \n",
    "\n",
    "# Inference: Data is not normal."
   ]
  },
  {
   "cell_type": "code",
   "execution_count": null,
   "metadata": {
    "id": "VrqcAbBwv40n"
   },
   "outputs": [],
   "source": [
    "# Since data points does not statisfy normality. Mannwhtineyu is the equivalent test for unpaired\n",
    "# t test."
   ]
  },
  {
   "cell_type": "code",
   "execution_count": null,
   "metadata": {
    "id": "8HbqQw_Mv40n",
    "outputId": "a3e3a88b-7d9d-4f35-af69-1bc6aab6afbc"
   },
   "outputs": [
    {
     "data": {
      "image/png": "[encoded data removed]",
      "text/plain": [
       "<Figure size 432x288 with 1 Axes>"
      ]
     },
     "metadata": {
      "needs_background": "light",
      "tags": []
     },
     "output_type": "display_data"
    }
   ],
   "source": [
    "# Graphical understanding:\n",
    "\n",
    "sns.kdeplot(fifa_left['Potential'],label='left_potential')\n",
    "sns.kdeplot(fifa_right['Potential'],label='right_potential')\n",
    "plt.show()\n"
   ]
  },
  {
   "cell_type": "markdown",
   "metadata": {
    "id": "fgpCKIXnv40o"
   },
   "source": [
    "Inference : No differernce in the mean"
   ]
  },
  {
   "cell_type": "code",
   "execution_count": null,
   "metadata": {
    "id": "gUXfwP1ev40o",
    "outputId": "2880a704-2495-4ae2-8b86-fac7f66439b9"
   },
   "outputs": [
    {
     "name": "stdout",
     "output_type": "stream",
     "text": [
      "Test Statistic: 344181.0\n",
      "p_value: 0.111812406208667\n"
     ]
    }
   ],
   "source": [
    "# Ho: μ_right =  μ_left (No difference in potential with respect to preffered foot)\n",
    "# Ha : μ_right ≠  μ_left  (Significant difference in potential with respect to preffered foot)\n",
    "\n",
    "\n",
    "test = stats.mannwhitneyu(fifa_right['Potential'],fifa_left['Potential'])\n",
    "print('Test Statistic:',test[0])\n",
    "print('p_value:',test[1])\n",
    "\n"
   ]
  },
  {
   "cell_type": "code",
   "execution_count": null,
   "metadata": {
    "id": "YGP8Bl6ov40o"
   },
   "outputs": [],
   "source": [
    "# Since p_value > 0.05(5% Significance level). Null Hypothesis is not rejected i.e Alternate Hypothesis \n",
    "# is not selected. \n",
    "\n",
    "# Inference: No difference is potential with respect to preffered foot."
   ]
  },
  {
   "cell_type": "markdown",
   "metadata": {
    "id": "I2dwv-zXv40o"
   },
   "source": [
    "**Performing the statistical test to identify the relation between the overall rating and potential.**"
   ]
  },
  {
   "cell_type": "code",
   "execution_count": null,
   "metadata": {
    "id": "pdbfuQWQv40o",
    "outputId": "d15bdc11-27f2-44c0-9706-545c084a7a08"
   },
   "outputs": [
    {
     "name": "stdout",
     "output_type": "stream",
     "text": [
      "Test Statistic: 0.8525537848472595\n",
      "p_value: 1.0221183102662362e-39\n"
     ]
    }
   ],
   "source": [
    "# Test of Normality \n",
    "\n",
    "# Ho: Data is not normal\n",
    "# Ha : Data is normal\n",
    "\n",
    "data = fifa['Overall_rating']\n",
    "test = stats.shapiro(data)\n",
    "print('Test Statistic:',test[0])\n",
    "print('p_value:',test[1])\n",
    "\n"
   ]
  },
  {
   "cell_type": "code",
   "execution_count": null,
   "metadata": {
    "id": "_pET-NSSv40o"
   },
   "outputs": [],
   "source": [
    "# Since p_value < 0.05(5% Significance level). Null Hypothesis is rejected i.e Alternate Hypothesis \n",
    "# is selected. \n",
    "\n",
    "# Inference: Data is not normal."
   ]
  },
  {
   "cell_type": "code",
   "execution_count": null,
   "metadata": {
    "id": "A0bW2d8Wv40p",
    "outputId": "160aa211-b5ea-4c7a-a755-39ac21d9eaeb"
   },
   "outputs": [
    {
     "name": "stdout",
     "output_type": "stream",
     "text": [
      "Test Statistic: 0.9384800791740417\n",
      "p_value: 5.016414837142018e-28\n"
     ]
    }
   ],
   "source": [
    "# Test of Normality \n",
    "# Ho: Data is not normal\n",
    "# Ha : Data is normal\n",
    "\n",
    "data = fifa['Potential']\n",
    "test = stats.shapiro(data)\n",
    "print('Test Statistic:',test[0])\n",
    "print('p_value:',test[1])\n",
    "\n"
   ]
  },
  {
   "cell_type": "code",
   "execution_count": null,
   "metadata": {
    "id": "yK2-bOu3v40p"
   },
   "outputs": [],
   "source": [
    "# Since p_value < 0.05(5% Significance level). Null Hypothesis is rejected i.e Alternate Hypothesis \n",
    "# is selected. \n",
    "\n",
    "# Inference: Data is not normal."
   ]
  },
  {
   "cell_type": "code",
   "execution_count": null,
   "metadata": {
    "id": "nHO0JMe6v40p"
   },
   "outputs": [],
   "source": [
    "# Since the both the columns are not normal. To check the correlation, spearmanr statistical\n",
    "# test needs to be used."
   ]
  },
  {
   "cell_type": "code",
   "execution_count": null,
   "metadata": {
    "id": "n7nxdWJ5v40q",
    "outputId": "0b6d77f3-64da-4f1e-f328-2d306e89ae65"
   },
   "outputs": [
    {
     "name": "stdout",
     "output_type": "stream",
     "text": [
      "Test Statistic: 0.6904482380449665\n",
      "p_value: 2.6831262205531135e-283\n"
     ]
    }
   ],
   "source": [
    "# Ho: r = 0 (No correlation between Overall rating and Potential)\n",
    "# Ha : r ≠ 0  (There exsist correlation between Overall rating and Potential)\n",
    "\n",
    "\n",
    "test = stats.spearmanr(fifa['Overall_rating'],fifa['Potential'])\n",
    "print('Test Statistic:',test[0])\n",
    "print('p_value:',test[1])\n",
    "\n"
   ]
  },
  {
   "cell_type": "code",
   "execution_count": null,
   "metadata": {
    "id": "v0RHylzLv40q"
   },
   "outputs": [],
   "source": [
    "# Since p_value < 0.05(5% Significance level). Null Hypothesis is rejected i.e Alternate Hypothesis \n",
    "# is selected. \n",
    "\n",
    "# Inference: Correlation between Overall rating and Potential."
   ]
  },
  {
   "cell_type": "markdown",
   "metadata": {
    "id": "x70KesBTv40q"
   },
   "source": [
    "**Checking if \"skill move\" and \"week foot\" has any effect in overall rating. Performing the graphical analysis and the statistical analysis.**"
   ]
  },
  {
   "cell_type": "code",
   "execution_count": null,
   "metadata": {
    "id": "V9HmyBTTv40q",
    "outputId": "59de6827-3a31-4d5f-f6e9-23be6f917a31"
   },
   "outputs": [
    {
     "data": {
      "text/plain": [
       "3    828\n",
       "4    544\n",
       "2    395\n",
       "1    194\n",
       "5     39\n",
       "Name: Skill Moves, dtype: int64"
      ]
     },
     "execution_count": 45,
     "metadata": {
      "tags": []
     },
     "output_type": "execute_result"
    }
   ],
   "source": [
    "fifa['Skill Moves'].value_counts()"
   ]
  },
  {
   "cell_type": "code",
   "execution_count": null,
   "metadata": {
    "id": "4Zc8DI7Gv40q"
   },
   "outputs": [],
   "source": [
    "skm_1=fifa[fifa['Skill Moves']==1]['Overall_rating']\n",
    "skm_2=fifa[fifa['Skill Moves']==2]['Overall_rating']\n",
    "skm_3=fifa[fifa['Skill Moves']==3]['Overall_rating']\n",
    "skm_4=fifa[fifa['Skill Moves']==4]['Overall_rating']\n",
    "skm_5=fifa[fifa['Skill Moves']==5]['Overall_rating']"
   ]
  },
  {
   "cell_type": "code",
   "execution_count": null,
   "metadata": {
    "id": "t2M8cQ7Ov40r",
    "outputId": "e73f5668-dfb3-46cb-dc0b-3162ba3caf0e"
   },
   "outputs": [
    {
     "name": "stdout",
     "output_type": "stream",
     "text": [
      "Test Statistic: 0.8525537848472595\n",
      "p_value: 1.0221183102662362e-39\n"
     ]
    }
   ],
   "source": [
    "# Test of Normality \n",
    "\n",
    "# Ho: Data is not normal\n",
    "# Ha : Data is normal\n",
    "\n",
    "data = fifa['Overall_rating']\n",
    "test = stats.shapiro(data)\n",
    "print('Test Statistic:',test[0])\n",
    "print('p_value:',test[1])\n"
   ]
  },
  {
   "cell_type": "code",
   "execution_count": null,
   "metadata": {
    "id": "Etx-260Lv40r"
   },
   "outputs": [],
   "source": [
    "# Since p_value < 0.05(5% Significance level). Null Hypothesis is rejected i.e Alternate Hypothesis \n",
    "# is selected. \n",
    "\n",
    "# Inference: Data is not normal."
   ]
  },
  {
   "cell_type": "code",
   "execution_count": null,
   "metadata": {
    "id": "sxhR_lBpv40r"
   },
   "outputs": [],
   "source": [
    "# Since data is not normal. kruskal test needs to be performed."
   ]
  },
  {
   "cell_type": "code",
   "execution_count": null,
   "metadata": {
    "id": "IztGX7zzv40r",
    "outputId": "ff7557df-104d-44fb-d3b4-daf17214b0f1",
    "scrolled": true
   },
   "outputs": [
    {
     "data": {
      "image/png": "[encoded data removed]",
      "text/plain": [
       "<Figure size 432x288 with 1 Axes>"
      ]
     },
     "metadata": {
      "needs_background": "light",
      "tags": []
     },
     "output_type": "display_data"
    }
   ],
   "source": [
    "# Graphical Understanding:\n",
    "\n",
    "sns.kdeplot(skm_1,label='Skill move 1')\n",
    "sns.kdeplot(skm_2,label='Skill move 2')\n",
    "sns.kdeplot(skm_3,label='Skill move 3')\n",
    "sns.kdeplot(skm_4,label='Skill move 4')\n",
    "sns.kdeplot(skm_5,label='Skill move 5')\n",
    "plt.show()\n"
   ]
  },
  {
   "cell_type": "code",
   "execution_count": null,
   "metadata": {
    "id": "-2qtoYKrv40s"
   },
   "outputs": [],
   "source": [
    "# Inference: Skill move 5 is significantly different from other skill moves."
   ]
  }
 ],
 "metadata": {
  "colab": {
   "name": "Statistics_MiniProject_Qcied.ipynb",
   "provenance": []
  },
  "kernelspec": {
   "display_name": "Python 3 (ipykernel)",
   "language": "python",
   "name": "python3"
  },
  "language_info": {
   "codemirror_mode": {
    "name": "ipython",
    "version": 3
   },
   "file_extension": ".py",
   "mimetype": "text/x-python",
   "name": "python",
   "nbconvert_exporter": "python",
   "pygments_lexer": "ipython3",
   "version": "3.11.2"
  }
 },
 "nbformat": 4,
 "nbformat_minor": 4
}
